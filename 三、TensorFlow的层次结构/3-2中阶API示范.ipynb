{
 "cells": [
  {
   "cell_type": "markdown",
   "metadata": {},
   "source": [
    "# 3-2 中阶API示范\n",
    "\n",
    "下面的范例使用TensorFlow的中阶API实现线性回归模型。\n",
    "\n",
    "TensorFlow的中阶API主要包括各种模型层，损失函数，优化器，数据管道，特征列等等。"
   ]
  },
  {
   "cell_type": "code",
   "execution_count": 2,
   "metadata": {},
   "outputs": [],
   "source": [
    "import tensorflow as tf\n",
    "from tensorflow.keras import layers,losses,metrics,optimizers\n",
    "\n",
    "\n",
    "#打印时间分割线\n",
    "@tf.function\n",
    "def printbar():\n",
    "    ts = tf.timestamp()\n",
    "    today_ts = ts%(24*60*60)\n",
    "\n",
    "    hour = tf.cast(today_ts//3600+8,tf.int32)%tf.constant(24)\n",
    "    minite = tf.cast((today_ts%3600)//60,tf.int32)\n",
    "    second = tf.cast(tf.floor(today_ts%60),tf.int32)\n",
    "    \n",
    "    def timeformat(m):\n",
    "        if tf.strings.length(tf.strings.format(\"{}\",m))==1:\n",
    "            return(tf.strings.format(\"0{}\",m))\n",
    "        else:\n",
    "            return(tf.strings.format(\"{}\",m))\n",
    "    \n",
    "    timestring = tf.strings.join([timeformat(hour),timeformat(minite),\n",
    "                timeformat(second)],separator = \":\")\n",
    "    tf.print(\"==========\"*8, end = \"\")\n",
    "    tf.print(timestring)"
   ]
  },
  {
   "cell_type": "code",
   "execution_count": 3,
   "metadata": {},
   "outputs": [],
   "source": [
    "#样本数量\n",
    "n = 800\n",
    "\n",
    "# 生成测试用数据集\n",
    "X = tf.random.uniform([n,2],minval=-10,maxval=10) \n",
    "w0 = tf.constant([[2.0],[-1.0]])\n",
    "b0 = tf.constant(3.0)\n",
    "Y = X@w0 + b0 + tf.random.normal([n,1],mean = 0.0,stddev= 2.0)  # @表示矩阵乘法,增加正态扰动\n",
    "\n",
    "# 构建输入数据管道\n",
    "ds = tf.data.Dataset.from_tensor_slices((X, Y)) \\\n",
    "    .shuffle(buffer_size=1000).batch(100) \\\n",
    "    .prefetch(tf.data.experimental.AUTOTUNE)\n",
    "\n",
    "# 定义优化器\n",
    "optimizer = optimizers.SGD(learning_rate=0.001)"
   ]
  },
  {
   "cell_type": "code",
   "execution_count": 4,
   "metadata": {},
   "outputs": [
    {
     "name": "stdout",
     "output_type": "stream",
     "text": [
      "================================================================================23:01:53\n",
      "epoch = 100 loss = 4.37855768\n",
      "w = [[1.9805001]\n",
      " [-1.00572443]]\n",
      "b = [2.38704515]\n",
      "\n",
      "================================================================================23:01:55\n",
      "epoch = 200 loss = 4.84104776\n",
      "w = [[1.98421025]\n",
      " [-1.00485337]]\n",
      "b = [2.88277578]\n",
      "\n",
      "================================================================================23:01:57\n",
      "epoch = 300 loss = 3.4911828\n",
      "w = [[1.98479068]\n",
      " [-1.00483012]]\n",
      "b = [2.98318672]\n",
      "\n",
      "================================================================================23:01:59\n",
      "epoch = 400 loss = 3.44143391\n",
      "w = [[1.98640645]\n",
      " [-1.00425828]]\n",
      "b = [3.00356913]\n",
      "\n",
      "================================================================================23:02:01\n",
      "epoch = 500 loss = 3.07429075\n",
      "w = [[1.98505449]\n",
      " [-1.00362432]]\n",
      "b = [3.00785589]\n",
      "\n"
     ]
    }
   ],
   "source": [
    "linear = layers.Dense(units=1)\n",
    "linear.build(input_shape=(2,))\n",
    "\n",
    "@tf.function\n",
    "def train(epoches):\n",
    "    for epoch in tf.range(1, epoches+1):\n",
    "        L = tf.constant(0.0) # 使用L记录loss值\n",
    "        for X_batch, Y_batch in ds:\n",
    "            with tf.GradientTape() as tape:\n",
    "                Y_hat = linear(X_batch)\n",
    "                loss = losses.mean_squared_error(tf.reshape(Y_hat, [-1]), tf.reshape(Y_batch, [-1]))\n",
    "            grads = tape.gradient(loss, linear.variables)\n",
    "            optimizer.apply_gradients(zip(grads, linear.variables))\n",
    "            L = loss\n",
    "            \n",
    "        if(epoch%100==0):\n",
    "            printbar()\n",
    "            tf.print(\"epoch =\",epoch,\"loss =\",L)\n",
    "            tf.print(\"w =\",linear.kernel)\n",
    "            tf.print(\"b =\",linear.bias)\n",
    "            tf.print(\"\")\n",
    "\n",
    "train(500)"
   ]
  },
  {
   "cell_type": "code",
   "execution_count": null,
   "metadata": {},
   "outputs": [],
   "source": []
  }
 ],
 "metadata": {
  "kernelspec": {
   "display_name": "Python 3",
   "language": "python",
   "name": "python3"
  },
  "language_info": {
   "codemirror_mode": {
    "name": "ipython",
    "version": 3
   },
   "file_extension": ".py",
   "mimetype": "text/x-python",
   "name": "python",
   "nbconvert_exporter": "python",
   "pygments_lexer": "ipython3",
   "version": "3.7.2"
  }
 },
 "nbformat": 4,
 "nbformat_minor": 2
}
